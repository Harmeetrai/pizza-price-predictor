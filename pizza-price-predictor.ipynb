{
 "cells": [
  {
   "cell_type": "markdown",
   "id": "68f8230a",
   "metadata": {
    "papermill": {
     "duration": 0.018859,
     "end_time": "2021-08-31T21:04:14.271353",
     "exception": false,
     "start_time": "2021-08-31T21:04:14.252494",
     "status": "completed"
    },
    "tags": []
   },
   "source": [
    "# Data Pre-Processing"
   ]
  },
  {
   "cell_type": "markdown",
   "metadata": {},
   "source": [
    "Data is taken from: https://www.kaggle.com/knightbearr/pizza-price-prediction"
   ]
  },
  {
   "cell_type": "markdown",
   "id": "ec893014",
   "metadata": {
    "id": "IODliia6U1xO",
    "papermill": {
     "duration": 0.016263,
     "end_time": "2021-08-31T21:04:14.304835",
     "exception": false,
     "start_time": "2021-08-31T21:04:14.288572",
     "status": "completed"
    },
    "tags": []
   },
   "source": [
    "## Importing the libraries"
   ]
  },
  {
   "cell_type": "code",
   "execution_count": null,
   "id": "5d575b3c",
   "metadata": {
    "execution": {
     "iopub.execute_input": "2021-08-31T21:04:14.341825Z",
     "iopub.status.busy": "2021-08-31T21:04:14.340805Z",
     "iopub.status.idle": "2021-08-31T21:04:15.926334Z",
     "shell.execute_reply": "2021-08-31T21:04:15.925562Z",
     "shell.execute_reply.started": "2021-08-31T21:02:17.641681Z"
    },
    "id": "y98nA5UdU6Hf",
    "papermill": {
     "duration": 1.605164,
     "end_time": "2021-08-31T21:04:15.926496",
     "exception": false,
     "start_time": "2021-08-31T21:04:14.321332",
     "status": "completed"
    },
    "tags": []
   },
   "outputs": [],
   "source": [
    "import numpy as np\n",
    "import matplotlib.pyplot as plt\n",
    "import pandas as pd\n",
    "import seaborn as sns\n",
    "import category_encoders as ce\n",
    "from sklearn.model_selection import train_test_split\n",
    "from sklearn.linear_model import LinearRegression\n",
    "from sklearn.metrics import r2_score\n",
    "from sklearn.tree import DecisionTreeRegressor\n",
    "from sklearn.preprocessing import PolynomialFeatures\n",
    "from sklearn.linear_model import LinearRegression\n",
    "from sklearn.ensemble import RandomForestRegressor\n"
   ]
  },
  {
   "cell_type": "markdown",
   "id": "2862118f",
   "metadata": {
    "id": "jpjZ43YlU8eI",
    "papermill": {
     "duration": 0.01718,
     "end_time": "2021-08-31T21:04:15.960919",
     "exception": false,
     "start_time": "2021-08-31T21:04:15.943739",
     "status": "completed"
    },
    "tags": []
   },
   "source": [
    "## Importing the dataset"
   ]
  },
  {
   "cell_type": "code",
   "execution_count": null,
   "id": "97c8136e",
   "metadata": {
    "execution": {
     "iopub.execute_input": "2021-08-31T21:04:15.999447Z",
     "iopub.status.busy": "2021-08-31T21:04:15.998776Z",
     "iopub.status.idle": "2021-08-31T21:04:16.016309Z",
     "shell.execute_reply": "2021-08-31T21:04:16.015569Z",
     "shell.execute_reply.started": "2021-08-31T21:02:17.650712Z"
    },
    "id": "pLVaXoYVU_Uy",
    "papermill": {
     "duration": 0.038588,
     "end_time": "2021-08-31T21:04:16.016451",
     "exception": false,
     "start_time": "2021-08-31T21:04:15.977863",
     "status": "completed"
    },
    "tags": []
   },
   "outputs": [],
   "source": [
    "df = pd.read_csv('../input/pizza-price-prediction/pizza_v1.csv')\n"
   ]
  },
  {
   "cell_type": "code",
   "execution_count": null,
   "id": "fbb3dded",
   "metadata": {
    "execution": {
     "iopub.execute_input": "2021-08-31T21:04:16.053935Z",
     "iopub.status.busy": "2021-08-31T21:04:16.053328Z",
     "iopub.status.idle": "2021-08-31T21:04:16.081306Z",
     "shell.execute_reply": "2021-08-31T21:04:16.081848Z",
     "shell.execute_reply.started": "2021-08-31T21:02:17.673754Z"
    },
    "papermill": {
     "duration": 0.047812,
     "end_time": "2021-08-31T21:04:16.082033",
     "exception": false,
     "start_time": "2021-08-31T21:04:16.034221",
     "status": "completed"
    },
    "tags": []
   },
   "outputs": [
    {
     "data": {
      "text/html": [
       "<div>\n",
       "<style scoped>\n",
       "    .dataframe tbody tr th:only-of-type {\n",
       "        vertical-align: middle;\n",
       "    }\n",
       "\n",
       "    .dataframe tbody tr th {\n",
       "        vertical-align: top;\n",
       "    }\n",
       "\n",
       "    .dataframe thead th {\n",
       "        text-align: right;\n",
       "    }\n",
       "</style>\n",
       "<table border=\"1\" class=\"dataframe\">\n",
       "  <thead>\n",
       "    <tr style=\"text-align: right;\">\n",
       "      <th></th>\n",
       "      <th>company</th>\n",
       "      <th>price_rupiah</th>\n",
       "      <th>diameter</th>\n",
       "      <th>topping</th>\n",
       "      <th>variant</th>\n",
       "      <th>size</th>\n",
       "      <th>extra_sauce</th>\n",
       "      <th>extra_cheese</th>\n",
       "    </tr>\n",
       "  </thead>\n",
       "  <tbody>\n",
       "    <tr>\n",
       "      <th>0</th>\n",
       "      <td>A</td>\n",
       "      <td>Rp235,000</td>\n",
       "      <td>22.0</td>\n",
       "      <td>chicken</td>\n",
       "      <td>double_signature</td>\n",
       "      <td>jumbo</td>\n",
       "      <td>yes</td>\n",
       "      <td>yes</td>\n",
       "    </tr>\n",
       "    <tr>\n",
       "      <th>1</th>\n",
       "      <td>A</td>\n",
       "      <td>Rp198,000</td>\n",
       "      <td>20.0</td>\n",
       "      <td>papperoni</td>\n",
       "      <td>double_signature</td>\n",
       "      <td>jumbo</td>\n",
       "      <td>yes</td>\n",
       "      <td>yes</td>\n",
       "    </tr>\n",
       "    <tr>\n",
       "      <th>2</th>\n",
       "      <td>A</td>\n",
       "      <td>Rp120,000</td>\n",
       "      <td>16.0</td>\n",
       "      <td>mushrooms</td>\n",
       "      <td>double_signature</td>\n",
       "      <td>reguler</td>\n",
       "      <td>yes</td>\n",
       "      <td>yes</td>\n",
       "    </tr>\n",
       "    <tr>\n",
       "      <th>3</th>\n",
       "      <td>A</td>\n",
       "      <td>Rp155,000</td>\n",
       "      <td>14.0</td>\n",
       "      <td>smoked beef</td>\n",
       "      <td>double_signature</td>\n",
       "      <td>reguler</td>\n",
       "      <td>yes</td>\n",
       "      <td>no</td>\n",
       "    </tr>\n",
       "    <tr>\n",
       "      <th>4</th>\n",
       "      <td>A</td>\n",
       "      <td>Rp248,000</td>\n",
       "      <td>18.0</td>\n",
       "      <td>mozzarella</td>\n",
       "      <td>double_signature</td>\n",
       "      <td>jumbo</td>\n",
       "      <td>yes</td>\n",
       "      <td>no</td>\n",
       "    </tr>\n",
       "  </tbody>\n",
       "</table>\n",
       "</div>"
      ],
      "text/plain": [
       "  company price_rupiah  diameter      topping           variant     size  \\\n",
       "0       A    Rp235,000      22.0      chicken  double_signature    jumbo   \n",
       "1       A    Rp198,000      20.0    papperoni  double_signature    jumbo   \n",
       "2       A    Rp120,000      16.0    mushrooms  double_signature  reguler   \n",
       "3       A    Rp155,000      14.0  smoked beef  double_signature  reguler   \n",
       "4       A    Rp248,000      18.0   mozzarella  double_signature    jumbo   \n",
       "\n",
       "  extra_sauce extra_cheese  \n",
       "0         yes          yes  \n",
       "1         yes          yes  \n",
       "2         yes          yes  \n",
       "3         yes           no  \n",
       "4         yes           no  "
      ]
     },
     "execution_count": 3,
     "metadata": {},
     "output_type": "execute_result"
    }
   ],
   "source": [
    "df.head()\n"
   ]
  },
  {
   "cell_type": "code",
   "execution_count": null,
   "id": "09287e1f",
   "metadata": {
    "execution": {
     "iopub.execute_input": "2021-08-31T21:04:16.135705Z",
     "iopub.status.busy": "2021-08-31T21:04:16.135105Z",
     "iopub.status.idle": "2021-08-31T21:04:16.137807Z",
     "shell.execute_reply": "2021-08-31T21:04:16.138274Z",
     "shell.execute_reply.started": "2021-08-31T21:02:17.691095Z"
    },
    "papermill": {
     "duration": 0.03872,
     "end_time": "2021-08-31T21:04:16.138435",
     "exception": false,
     "start_time": "2021-08-31T21:04:16.099715",
     "status": "completed"
    },
    "tags": []
   },
   "outputs": [
    {
     "name": "stdout",
     "output_type": "stream",
     "text": [
      "<class 'pandas.core.frame.DataFrame'>\n",
      "RangeIndex: 129 entries, 0 to 128\n",
      "Data columns (total 8 columns):\n",
      " #   Column        Non-Null Count  Dtype  \n",
      "---  ------        --------------  -----  \n",
      " 0   company       129 non-null    object \n",
      " 1   price_rupiah  129 non-null    object \n",
      " 2   diameter      129 non-null    float64\n",
      " 3   topping       129 non-null    object \n",
      " 4   variant       129 non-null    object \n",
      " 5   size          129 non-null    object \n",
      " 6   extra_sauce   129 non-null    object \n",
      " 7   extra_cheese  129 non-null    object \n",
      "dtypes: float64(1), object(7)\n",
      "memory usage: 8.2+ KB\n"
     ]
    }
   ],
   "source": [
    "df.info()\n"
   ]
  },
  {
   "cell_type": "code",
   "execution_count": null,
   "id": "daa74417",
   "metadata": {
    "execution": {
     "iopub.execute_input": "2021-08-31T21:04:16.175636Z",
     "iopub.status.busy": "2021-08-31T21:04:16.175103Z",
     "iopub.status.idle": "2021-08-31T21:04:16.181706Z",
     "shell.execute_reply": "2021-08-31T21:04:16.182252Z",
     "shell.execute_reply.started": "2021-08-31T21:02:17.714336Z"
    },
    "papermill": {
     "duration": 0.026639,
     "end_time": "2021-08-31T21:04:16.182423",
     "exception": false,
     "start_time": "2021-08-31T21:04:16.155784",
     "status": "completed"
    },
    "tags": []
   },
   "outputs": [
    {
     "data": {
      "text/plain": [
       "company         0\n",
       "price_rupiah    0\n",
       "diameter        0\n",
       "topping         0\n",
       "variant         0\n",
       "size            0\n",
       "extra_sauce     0\n",
       "extra_cheese    0\n",
       "dtype: int64"
      ]
     },
     "execution_count": 5,
     "metadata": {},
     "output_type": "execute_result"
    }
   ],
   "source": [
    "df.isnull().sum()\n"
   ]
  },
  {
   "cell_type": "code",
   "execution_count": null,
   "id": "fbe20b41",
   "metadata": {
    "execution": {
     "iopub.execute_input": "2021-08-31T21:04:16.221614Z",
     "iopub.status.busy": "2021-08-31T21:04:16.221062Z",
     "iopub.status.idle": "2021-08-31T21:04:16.237305Z",
     "shell.execute_reply": "2021-08-31T21:04:16.237733Z",
     "shell.execute_reply.started": "2021-08-31T21:02:17.732714Z"
    },
    "papermill": {
     "duration": 0.037302,
     "end_time": "2021-08-31T21:04:16.237900",
     "exception": false,
     "start_time": "2021-08-31T21:04:16.200598",
     "status": "completed"
    },
    "tags": []
   },
   "outputs": [
    {
     "data": {
      "text/html": [
       "<div>\n",
       "<style scoped>\n",
       "    .dataframe tbody tr th:only-of-type {\n",
       "        vertical-align: middle;\n",
       "    }\n",
       "\n",
       "    .dataframe tbody tr th {\n",
       "        vertical-align: top;\n",
       "    }\n",
       "\n",
       "    .dataframe thead th {\n",
       "        text-align: right;\n",
       "    }\n",
       "</style>\n",
       "<table border=\"1\" class=\"dataframe\">\n",
       "  <thead>\n",
       "    <tr style=\"text-align: right;\">\n",
       "      <th></th>\n",
       "      <th>diameter</th>\n",
       "    </tr>\n",
       "  </thead>\n",
       "  <tbody>\n",
       "    <tr>\n",
       "      <th>count</th>\n",
       "      <td>129.000000</td>\n",
       "    </tr>\n",
       "    <tr>\n",
       "      <th>mean</th>\n",
       "      <td>12.976744</td>\n",
       "    </tr>\n",
       "    <tr>\n",
       "      <th>std</th>\n",
       "      <td>3.272674</td>\n",
       "    </tr>\n",
       "    <tr>\n",
       "      <th>min</th>\n",
       "      <td>8.000000</td>\n",
       "    </tr>\n",
       "    <tr>\n",
       "      <th>25%</th>\n",
       "      <td>12.000000</td>\n",
       "    </tr>\n",
       "    <tr>\n",
       "      <th>50%</th>\n",
       "      <td>12.000000</td>\n",
       "    </tr>\n",
       "    <tr>\n",
       "      <th>75%</th>\n",
       "      <td>14.000000</td>\n",
       "    </tr>\n",
       "    <tr>\n",
       "      <th>max</th>\n",
       "      <td>22.000000</td>\n",
       "    </tr>\n",
       "  </tbody>\n",
       "</table>\n",
       "</div>"
      ],
      "text/plain": [
       "         diameter\n",
       "count  129.000000\n",
       "mean    12.976744\n",
       "std      3.272674\n",
       "min      8.000000\n",
       "25%     12.000000\n",
       "50%     12.000000\n",
       "75%     14.000000\n",
       "max     22.000000"
      ]
     },
     "execution_count": 6,
     "metadata": {},
     "output_type": "execute_result"
    }
   ],
   "source": [
    "df.describe()"
   ]
  },
  {
   "cell_type": "code",
   "execution_count": null,
   "id": "41cc35ba",
   "metadata": {
    "execution": {
     "iopub.execute_input": "2021-08-31T21:04:16.282278Z",
     "iopub.status.busy": "2021-08-31T21:04:16.281678Z",
     "iopub.status.idle": "2021-08-31T21:04:16.284506Z",
     "shell.execute_reply": "2021-08-31T21:04:16.284067Z",
     "shell.execute_reply.started": "2021-08-31T21:02:17.757816Z"
    },
    "papermill": {
     "duration": 0.02886,
     "end_time": "2021-08-31T21:04:16.284637",
     "exception": false,
     "start_time": "2021-08-31T21:04:16.255777",
     "status": "completed"
    },
    "tags": []
   },
   "outputs": [],
   "source": [
    "df_numerical = df.select_dtypes(exclude=['object'])\n",
    "df_categorical = df.select_dtypes(include=['object'])\n"
   ]
  },
  {
   "cell_type": "code",
   "execution_count": null,
   "id": "5543285e",
   "metadata": {
    "execution": {
     "iopub.execute_input": "2021-08-31T21:04:16.326949Z",
     "iopub.status.busy": "2021-08-31T21:04:16.326385Z",
     "iopub.status.idle": "2021-08-31T21:04:16.329241Z",
     "shell.execute_reply": "2021-08-31T21:04:16.329765Z",
     "shell.execute_reply.started": "2021-08-31T21:02:17.769666Z"
    },
    "papermill": {
     "duration": 0.027258,
     "end_time": "2021-08-31T21:04:16.329929",
     "exception": false,
     "start_time": "2021-08-31T21:04:16.302671",
     "status": "completed"
    },
    "tags": []
   },
   "outputs": [
    {
     "data": {
      "text/plain": [
       "company          object\n",
       "price_rupiah     object\n",
       "diameter        float64\n",
       "topping          object\n",
       "variant          object\n",
       "size             object\n",
       "extra_sauce      object\n",
       "extra_cheese     object\n",
       "dtype: object"
      ]
     },
     "execution_count": 8,
     "metadata": {},
     "output_type": "execute_result"
    }
   ],
   "source": [
    "df.dtypes\n"
   ]
  },
  {
   "cell_type": "code",
   "execution_count": null,
   "id": "b5497619",
   "metadata": {
    "execution": {
     "iopub.execute_input": "2021-08-31T21:04:16.368955Z",
     "iopub.status.busy": "2021-08-31T21:04:16.368410Z",
     "iopub.status.idle": "2021-08-31T21:04:16.375607Z",
     "shell.execute_reply": "2021-08-31T21:04:16.376160Z",
     "shell.execute_reply.started": "2021-08-31T21:02:17.784537Z"
    },
    "papermill": {
     "duration": 0.028265,
     "end_time": "2021-08-31T21:04:16.376318",
     "exception": false,
     "start_time": "2021-08-31T21:04:16.348053",
     "status": "completed"
    },
    "tags": []
   },
   "outputs": [
    {
     "data": {
      "text/plain": [
       "Rp72,000     11\n",
       "Rp90,000      8\n",
       "Rp46,000      7\n",
       "Rp75,000      5\n",
       "Rp49,000      5\n",
       "Rp83,000      5\n",
       "Rp96,000      5\n",
       "Rp149,000     4\n",
       "Rp99,000      4\n",
       "Rp110,000     4\n",
       "Rp70,000      4\n",
       "Rp140,000     4\n",
       "Rp39,000      4\n",
       "Rp23,500      3\n",
       "Rp115,000     3\n",
       "Rp93,000      3\n",
       "Rp98,000      3\n",
       "Rp35,000      3\n",
       "Rp44,000      3\n",
       "Rp69,000      3\n",
       "Rp31,000      3\n",
       "Rp78,000      3\n",
       "Rp60,000      3\n",
       "Rp114,000     2\n",
       "Rp105,000     2\n",
       "Rp76,000      2\n",
       "Rp123,000     2\n",
       "Rp33,000      2\n",
       "Rp126,500     2\n",
       "Rp230,000     2\n",
       "Rp188,000     2\n",
       "Rp119,000     2\n",
       "Rp54,000      1\n",
       "Rp198,000     1\n",
       "Rp120,000     1\n",
       "Rp155,000     1\n",
       "Rp32,000      1\n",
       "Rp248,000     1\n",
       "Rp51,000      1\n",
       "Rp84,000      1\n",
       "Rp28,000      1\n",
       "Rp92,000      1\n",
       "Rp235,000     1\n",
       "Name: price_rupiah, dtype: int64"
      ]
     },
     "execution_count": 9,
     "metadata": {},
     "output_type": "execute_result"
    }
   ],
   "source": [
    "df['company'].value_counts()\n",
    "df[\"price_rupiah\"].value_counts()\n"
   ]
  },
  {
   "cell_type": "code",
   "execution_count": null,
   "id": "94bf1fe3",
   "metadata": {
    "execution": {
     "iopub.execute_input": "2021-08-31T21:04:16.416725Z",
     "iopub.status.busy": "2021-08-31T21:04:16.416169Z",
     "iopub.status.idle": "2021-08-31T21:04:16.421656Z",
     "shell.execute_reply": "2021-08-31T21:04:16.421210Z",
     "shell.execute_reply.started": "2021-08-31T21:02:17.804415Z"
    },
    "papermill": {
     "duration": 0.026936,
     "end_time": "2021-08-31T21:04:16.421786",
     "exception": false,
     "start_time": "2021-08-31T21:04:16.394850",
     "status": "completed"
    },
    "tags": []
   },
   "outputs": [],
   "source": [
    "df.rename(columns={'price_rupiah': 'Cost', 'company': 'Company', 'diameter': 'Diameter', 'variant': 'Variant',\n",
    "          'size': 'Size', 'extra_sauce': 'Extra_sauce', 'extra_cheese': 'Extra_cheese'}, inplace=True)\n"
   ]
  },
  {
   "cell_type": "code",
   "execution_count": null,
   "id": "e3168a26",
   "metadata": {
    "execution": {
     "iopub.execute_input": "2021-08-31T21:04:16.464279Z",
     "iopub.status.busy": "2021-08-31T21:04:16.463642Z",
     "iopub.status.idle": "2021-08-31T21:04:16.465465Z",
     "shell.execute_reply": "2021-08-31T21:04:16.465962Z",
     "shell.execute_reply.started": "2021-08-31T21:02:17.814898Z"
    },
    "papermill": {
     "duration": 0.025434,
     "end_time": "2021-08-31T21:04:16.466132",
     "exception": false,
     "start_time": "2021-08-31T21:04:16.440698",
     "status": "completed"
    },
    "tags": []
   },
   "outputs": [],
   "source": [
    "encoding_columns = ['Company', 'topping', 'Variant',\n",
    "                    'Size', 'Extra_sauce', 'Extra_cheese']\n"
   ]
  },
  {
   "cell_type": "code",
   "execution_count": null,
   "id": "80b1a40f",
   "metadata": {
    "execution": {
     "iopub.execute_input": "2021-08-31T21:04:16.506928Z",
     "iopub.status.busy": "2021-08-31T21:04:16.506353Z",
     "iopub.status.idle": "2021-08-31T21:04:16.511599Z",
     "shell.execute_reply": "2021-08-31T21:04:16.511112Z",
     "shell.execute_reply.started": "2021-08-31T21:02:17.828209Z"
    },
    "papermill": {
     "duration": 0.026597,
     "end_time": "2021-08-31T21:04:16.511739",
     "exception": false,
     "start_time": "2021-08-31T21:04:16.485142",
     "status": "completed"
    },
    "tags": []
   },
   "outputs": [],
   "source": [
    "def refining_cost(col, df):\n",
    "    df[col] = df[col].map(lambda x: x.replace('Rp', ''))\n",
    "    df[col] = df[col].map(lambda x: x.replace(',', ''))\n"
   ]
  },
  {
   "cell_type": "code",
   "execution_count": null,
   "id": "3ebe298f",
   "metadata": {
    "execution": {
     "iopub.execute_input": "2021-08-31T21:04:16.554349Z",
     "iopub.status.busy": "2021-08-31T21:04:16.553714Z",
     "iopub.status.idle": "2021-08-31T21:04:16.555610Z",
     "shell.execute_reply": "2021-08-31T21:04:16.556052Z",
     "shell.execute_reply.started": "2021-08-31T21:02:17.839686Z"
    },
    "papermill": {
     "duration": 0.025637,
     "end_time": "2021-08-31T21:04:16.556225",
     "exception": false,
     "start_time": "2021-08-31T21:04:16.530588",
     "status": "completed"
    },
    "tags": []
   },
   "outputs": [],
   "source": [
    "def categorical_encoding(value, df):\n",
    "    one_hot_encoder = ce.OneHotEncoder(\n",
    "        cols=value, return_df=True, use_cat_names=True)\n",
    "    df_final = one_hot_encoder.fit_transform(df)\n",
    "    return df_final\n"
   ]
  },
  {
   "cell_type": "code",
   "execution_count": null,
   "id": "13b2c613",
   "metadata": {
    "execution": {
     "iopub.execute_input": "2021-08-31T21:04:16.596824Z",
     "iopub.status.busy": "2021-08-31T21:04:16.596089Z",
     "iopub.status.idle": "2021-08-31T21:04:16.709963Z",
     "shell.execute_reply": "2021-08-31T21:04:16.710413Z",
     "shell.execute_reply.started": "2021-08-31T21:02:17.850111Z"
    },
    "papermill": {
     "duration": 0.135354,
     "end_time": "2021-08-31T21:04:16.710587",
     "exception": false,
     "start_time": "2021-08-31T21:04:16.575233",
     "status": "completed"
    },
    "tags": []
   },
   "outputs": [
    {
     "name": "stderr",
     "output_type": "stream",
     "text": [
      "/opt/conda/lib/python3.7/site-packages/category_encoders/utils.py:21: FutureWarning: is_categorical is deprecated and will be removed in a future version.  Use is_categorical_dtype instead\n",
      "  elif pd.api.types.is_categorical(cols):\n",
      "/opt/conda/lib/python3.7/site-packages/category_encoders/utils.py:21: FutureWarning: is_categorical is deprecated and will be removed in a future version.  Use is_categorical_dtype instead\n",
      "  elif pd.api.types.is_categorical(cols):\n",
      "/opt/conda/lib/python3.7/site-packages/category_encoders/utils.py:21: FutureWarning: is_categorical is deprecated and will be removed in a future version.  Use is_categorical_dtype instead\n",
      "  elif pd.api.types.is_categorical(cols):\n",
      "/opt/conda/lib/python3.7/site-packages/category_encoders/utils.py:21: FutureWarning: is_categorical is deprecated and will be removed in a future version.  Use is_categorical_dtype instead\n",
      "  elif pd.api.types.is_categorical(cols):\n",
      "/opt/conda/lib/python3.7/site-packages/category_encoders/utils.py:21: FutureWarning: is_categorical is deprecated and will be removed in a future version.  Use is_categorical_dtype instead\n",
      "  elif pd.api.types.is_categorical(cols):\n",
      "/opt/conda/lib/python3.7/site-packages/category_encoders/utils.py:21: FutureWarning: is_categorical is deprecated and will be removed in a future version.  Use is_categorical_dtype instead\n",
      "  elif pd.api.types.is_categorical(cols):\n"
     ]
    }
   ],
   "source": [
    "df = categorical_encoding(\"Company\", df)\n",
    "df = categorical_encoding(\"topping\", df)\n",
    "df = categorical_encoding('Variant', df)\n",
    "df = categorical_encoding('Size', df)\n",
    "df = categorical_encoding(\"Extra_sauce\", df)\n",
    "df = categorical_encoding('Extra_cheese', df)\n"
   ]
  },
  {
   "cell_type": "code",
   "execution_count": null,
   "id": "11b72cfc",
   "metadata": {
    "execution": {
     "iopub.execute_input": "2021-08-31T21:04:16.758323Z",
     "iopub.status.busy": "2021-08-31T21:04:16.757541Z",
     "iopub.status.idle": "2021-08-31T21:04:16.760934Z",
     "shell.execute_reply": "2021-08-31T21:04:16.761347Z",
     "shell.execute_reply.started": "2021-08-31T21:02:17.976838Z"
    },
    "papermill": {
     "duration": 0.032076,
     "end_time": "2021-08-31T21:04:16.761510",
     "exception": false,
     "start_time": "2021-08-31T21:04:16.729434",
     "status": "completed"
    },
    "tags": []
   },
   "outputs": [
    {
     "data": {
      "text/plain": [
       "Company_A                      int64\n",
       "Company_B                      int64\n",
       "Company_C                      int64\n",
       "Company_D                      int64\n",
       "Company_E                      int64\n",
       "Cost                         float64\n",
       "Diameter                     float64\n",
       "topping_chicken                int64\n",
       "topping_papperoni              int64\n",
       "topping_mushrooms              int64\n",
       "topping_smoked beef            int64\n",
       "topping_mozzarella             int64\n",
       "topping_black papper           int64\n",
       "topping_tuna                   int64\n",
       "topping_meat                   int64\n",
       "topping_sausage                int64\n",
       "topping_onion                  int64\n",
       "topping_vegetables             int64\n",
       "topping_beef                   int64\n",
       "Variant_double_signature       int64\n",
       "Variant_american_favorite      int64\n",
       "Variant_super_supreme          int64\n",
       "Variant_meat_lovers            int64\n",
       "Variant_double_mix             int64\n",
       "Variant_classic                int64\n",
       "Variant_crunchy                int64\n",
       "Variant_new_york               int64\n",
       "Variant_double_decker          int64\n",
       "Variant_spicy_tuna             int64\n",
       "Variant_BBQ_meat_fiesta        int64\n",
       "Variant_BBQ_sausage            int64\n",
       "Variant_extravaganza           int64\n",
       "Variant_meat_eater             int64\n",
       "Variant_gournet_greek          int64\n",
       "Variant_italian_veggie         int64\n",
       "Variant_thai_veggie            int64\n",
       "Variant_american_classic       int64\n",
       "Variant_neptune_tuna           int64\n",
       "Variant_spicy tuna             int64\n",
       "Size_jumbo                     int64\n",
       "Size_reguler                   int64\n",
       "Size_small                     int64\n",
       "Size_medium                    int64\n",
       "Size_large                     int64\n",
       "Size_XL                        int64\n",
       "Extra_sauce_yes                int64\n",
       "Extra_sauce_no                 int64\n",
       "Extra_cheese_yes               int64\n",
       "Extra_cheese_no                int64\n",
       "dtype: object"
      ]
     },
     "execution_count": 15,
     "metadata": {},
     "output_type": "execute_result"
    }
   ],
   "source": [
    "refining_cost('Cost', df)\n",
    "df['Cost'] = df['Cost'].astype('float64')\n",
    "df.dtypes\n"
   ]
  },
  {
   "cell_type": "code",
   "execution_count": null,
   "id": "d9cdd8c3",
   "metadata": {
    "execution": {
     "iopub.execute_input": "2021-08-31T21:04:16.806294Z",
     "iopub.status.busy": "2021-08-31T21:04:16.805577Z",
     "iopub.status.idle": "2021-08-31T21:04:16.809398Z",
     "shell.execute_reply": "2021-08-31T21:04:16.810010Z",
     "shell.execute_reply.started": "2021-08-31T21:02:17.991859Z"
    },
    "papermill": {
     "duration": 0.029424,
     "end_time": "2021-08-31T21:04:16.810230",
     "exception": false,
     "start_time": "2021-08-31T21:04:16.780806",
     "status": "completed"
    },
    "tags": []
   },
   "outputs": [
    {
     "name": "stdout",
     "output_type": "stream",
     "text": [
      "(129, 48)\n"
     ]
    }
   ],
   "source": [
    "X = df.drop(['Cost'], axis=1)\n",
    "y = df['Cost']\n",
    "print(X.shape)\n"
   ]
  },
  {
   "cell_type": "markdown",
   "id": "8057ea0f",
   "metadata": {
    "id": "tPJXMyyUJbWn",
    "papermill": {
     "duration": 0.019774,
     "end_time": "2021-08-31T21:04:16.851593",
     "exception": false,
     "start_time": "2021-08-31T21:04:16.831819",
     "status": "completed"
    },
    "tags": []
   },
   "source": [
    "## Splitting the dataset into the Training set and Test set"
   ]
  },
  {
   "cell_type": "code",
   "execution_count": null,
   "id": "cf608c7f",
   "metadata": {
    "execution": {
     "iopub.execute_input": "2021-08-31T21:04:16.899163Z",
     "iopub.status.busy": "2021-08-31T21:04:16.898588Z",
     "iopub.status.idle": "2021-08-31T21:04:16.901519Z",
     "shell.execute_reply": "2021-08-31T21:04:16.901022Z",
     "shell.execute_reply.started": "2021-08-31T21:02:18.004351Z"
    },
    "id": "rFOzpjaiJd5B",
    "papermill": {
     "duration": 0.029875,
     "end_time": "2021-08-31T21:04:16.901651",
     "exception": false,
     "start_time": "2021-08-31T21:04:16.871776",
     "status": "completed"
    },
    "tags": []
   },
   "outputs": [],
   "source": [
    "X_train, X_test, y_train, y_test = train_test_split(X, y, test_size = 0.2, random_state = 0)\n",
    "X_train, X_test, y_train, y_test = np.array(X_train), np.array(\n",
    "    X_test), np.array(y_train), np.array(y_test)\n"
   ]
  },
  {
   "cell_type": "markdown",
   "id": "431652f4",
   "metadata": {
    "papermill": {
     "duration": 0.019049,
     "end_time": "2021-08-31T21:04:16.940108",
     "exception": false,
     "start_time": "2021-08-31T21:04:16.921059",
     "status": "completed"
    },
    "tags": []
   },
   "source": [
    "# Modeling"
   ]
  },
  {
   "cell_type": "markdown",
   "id": "fae1719b",
   "metadata": {
    "papermill": {
     "duration": 0.025119,
     "end_time": "2021-08-31T21:04:16.984857",
     "exception": false,
     "start_time": "2021-08-31T21:04:16.959738",
     "status": "completed"
    },
    "tags": []
   },
   "source": [
    "## Multiple Linear Regression"
   ]
  },
  {
   "cell_type": "code",
   "execution_count": null,
   "id": "424a11b2",
   "metadata": {
    "execution": {
     "iopub.execute_input": "2021-08-31T21:04:17.238960Z",
     "iopub.status.busy": "2021-08-31T21:04:17.161705Z",
     "iopub.status.idle": "2021-08-31T21:04:17.243305Z",
     "shell.execute_reply": "2021-08-31T21:04:17.243740Z",
     "shell.execute_reply.started": "2021-08-31T21:02:18.017797Z"
    },
    "id": "ywPjx0L1BMiD",
    "papermill": {
     "duration": 0.231586,
     "end_time": "2021-08-31T21:04:17.243912",
     "exception": false,
     "start_time": "2021-08-31T21:04:17.012326",
     "status": "completed"
    },
    "tags": []
   },
   "outputs": [
    {
     "data": {
      "text/plain": [
       "LinearRegression()"
      ]
     },
     "execution_count": 18,
     "metadata": {},
     "output_type": "execute_result"
    }
   ],
   "source": [
    "mul_regressor = LinearRegression()\n",
    "mul_regressor.fit(X_train, y_train)"
   ]
  },
  {
   "cell_type": "markdown",
   "id": "429a397c",
   "metadata": {
    "papermill": {
     "duration": 0.019231,
     "end_time": "2021-08-31T21:04:17.282589",
     "exception": false,
     "start_time": "2021-08-31T21:04:17.263358",
     "status": "completed"
    },
    "tags": []
   },
   "source": [
    "## Decision Tree Regression"
   ]
  },
  {
   "cell_type": "code",
   "execution_count": null,
   "id": "06b81026",
   "metadata": {
    "execution": {
     "iopub.execute_input": "2021-08-31T21:04:17.325106Z",
     "iopub.status.busy": "2021-08-31T21:04:17.324209Z",
     "iopub.status.idle": "2021-08-31T21:04:17.331383Z",
     "shell.execute_reply": "2021-08-31T21:04:17.331802Z",
     "shell.execute_reply.started": "2021-08-31T21:02:18.037083Z"
    },
    "id": "SLDKyv1SVUqS",
    "papermill": {
     "duration": 0.029786,
     "end_time": "2021-08-31T21:04:17.331986",
     "exception": false,
     "start_time": "2021-08-31T21:04:17.302200",
     "status": "completed"
    },
    "tags": []
   },
   "outputs": [
    {
     "data": {
      "text/plain": [
       "DecisionTreeRegressor(random_state=0)"
      ]
     },
     "execution_count": 19,
     "metadata": {},
     "output_type": "execute_result"
    }
   ],
   "source": [
    "decision_regressor = DecisionTreeRegressor(random_state = 0)\n",
    "decision_regressor.fit(X_train, y_train)"
   ]
  },
  {
   "cell_type": "markdown",
   "id": "d1e42729",
   "metadata": {
    "papermill": {
     "duration": 0.019578,
     "end_time": "2021-08-31T21:04:17.371485",
     "exception": false,
     "start_time": "2021-08-31T21:04:17.351907",
     "status": "completed"
    },
    "tags": []
   },
   "source": [
    "## Polynomial Rregression"
   ]
  },
  {
   "cell_type": "code",
   "execution_count": null,
   "id": "30e02045",
   "metadata": {
    "execution": {
     "iopub.execute_input": "2021-08-31T21:04:17.414494Z",
     "iopub.status.busy": "2021-08-31T21:04:17.413558Z",
     "iopub.status.idle": "2021-08-31T21:04:20.552593Z",
     "shell.execute_reply": "2021-08-31T21:04:20.553574Z",
     "shell.execute_reply.started": "2021-08-31T21:02:18.048325Z"
    },
    "id": "HYplp4pTEm0O",
    "papermill": {
     "duration": 3.16258,
     "end_time": "2021-08-31T21:04:20.553844",
     "exception": false,
     "start_time": "2021-08-31T21:04:17.391264",
     "status": "completed"
    },
    "tags": []
   },
   "outputs": [
    {
     "data": {
      "text/plain": [
       "LinearRegression()"
      ]
     },
     "execution_count": 20,
     "metadata": {},
     "output_type": "execute_result"
    }
   ],
   "source": [
    "poly_reg = PolynomialFeatures(degree = 4)\n",
    "X_poly = poly_reg.fit_transform(X_train)\n",
    "poly_regressor = LinearRegression()\n",
    "poly_regressor.fit(X_poly, y_train)"
   ]
  },
  {
   "cell_type": "markdown",
   "id": "b5210d37",
   "metadata": {
    "papermill": {
     "duration": 0.038092,
     "end_time": "2021-08-31T21:04:20.630692",
     "exception": false,
     "start_time": "2021-08-31T21:04:20.592600",
     "status": "completed"
    },
    "tags": []
   },
   "source": [
    "## Random Forest Regression"
   ]
  },
  {
   "cell_type": "code",
   "execution_count": null,
   "id": "aa23166f",
   "metadata": {
    "execution": {
     "iopub.execute_input": "2021-08-31T21:04:20.695335Z",
     "iopub.status.busy": "2021-08-31T21:04:20.694676Z",
     "iopub.status.idle": "2021-08-31T21:04:20.709672Z",
     "shell.execute_reply": "2021-08-31T21:04:20.709198Z",
     "shell.execute_reply.started": "2021-08-31T21:02:21.497959Z"
    },
    "id": "o8dOCoJ1YKMc",
    "papermill": {
     "duration": 0.045099,
     "end_time": "2021-08-31T21:04:20.709804",
     "exception": false,
     "start_time": "2021-08-31T21:04:20.664705",
     "status": "completed"
    },
    "tags": []
   },
   "outputs": [
    {
     "data": {
      "text/plain": [
       "RandomForestRegressor(n_estimators=10, random_state=0)"
      ]
     },
     "execution_count": 21,
     "metadata": {},
     "output_type": "execute_result"
    }
   ],
   "source": [
    "forest_regressor = RandomForestRegressor(n_estimators = 10, random_state = 0)\n",
    "forest_regressor.fit(X_train, y_train)\n"
   ]
  },
  {
   "cell_type": "markdown",
   "id": "8bfff6c4",
   "metadata": {
    "papermill": {
     "duration": 0.020129,
     "end_time": "2021-08-31T21:04:20.750521",
     "exception": false,
     "start_time": "2021-08-31T21:04:20.730392",
     "status": "completed"
    },
    "tags": []
   },
   "source": [
    "# R Squared Score"
   ]
  },
  {
   "cell_type": "code",
   "execution_count": null,
   "id": "32426e44",
   "metadata": {
    "execution": {
     "iopub.execute_input": "2021-08-31T21:04:20.808245Z",
     "iopub.status.busy": "2021-08-31T21:04:20.807600Z",
     "iopub.status.idle": "2021-08-31T21:04:20.848663Z",
     "shell.execute_reply": "2021-08-31T21:04:20.847874Z",
     "shell.execute_reply.started": "2021-08-31T21:02:21.566866Z"
    },
    "papermill": {
     "duration": 0.077885,
     "end_time": "2021-08-31T21:04:20.848829",
     "exception": false,
     "start_time": "2021-08-31T21:04:20.770944",
     "status": "completed"
    },
    "tags": []
   },
   "outputs": [
    {
     "name": "stdout",
     "output_type": "stream",
     "text": [
      "The Regression model with the highest score is: forest_score = 0.9412576941774162\n"
     ]
    }
   ],
   "source": [
    "\n",
    "mul_score = r2_score(y_test, mul_regressor.predict(X_test))\n",
    "decision_score = r2_score(y_test, decision_regressor.predict(X_test))\n",
    "poly_score = r2_score(\n",
    "    y_test,  poly_regressor.predict(poly_reg.transform(X_test)))\n",
    "forest_score = r2_score(y_test,  forest_regressor.predict(X_test))\n",
    "\n",
    "var = {mul_score: \"mul_score\", decision_score: \"decision_score\",\n",
    "       poly_score: \"poly_score\", forest_score: \"forest_score\"}\n",
    "print(\"The Regression model with the highest score is:\", var.get(max(var)), \"=\",max(var))\n"
   ]
  }
 ],
 "metadata": {
  "interpreter": {
   "hash": "df0893f56f349688326838aaeea0de204df53a132722cbd565e54b24a8fec5f6"
  },
  "kernelspec": {
   "display_name": "Python 3.8.12 64-bit",
   "name": "python3"
  },
  "language_info": {
   "codemirror_mode": {
    "name": "ipython",
    "version": 3
   },
   "file_extension": ".py",
   "mimetype": "text/x-python",
   "name": "python",
   "nbconvert_exporter": "python",
   "pygments_lexer": "ipython3",
   "version": "3.8.12"
  },
  "papermill": {
   "default_parameters": {},
   "duration": 14.480655,
   "end_time": "2021-08-31T21:04:21.601450",
   "environment_variables": {},
   "exception": null,
   "input_path": "__notebook__.ipynb",
   "output_path": "__notebook__.ipynb",
   "parameters": {},
   "start_time": "2021-08-31T21:04:07.120795",
   "version": "2.3.3"
  }
 },
 "nbformat": 4,
 "nbformat_minor": 5
}
